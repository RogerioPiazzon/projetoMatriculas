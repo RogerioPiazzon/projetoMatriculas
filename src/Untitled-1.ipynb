{
 "cells": [
  {
   "cell_type": "code",
   "execution_count": 1,
   "metadata": {},
   "outputs": [
    {
     "ename": "ModuleNotFoundError",
     "evalue": "No module named 'pytesseract'",
     "output_type": "error",
     "traceback": [
      "\u001b[1;31m---------------------------------------------------------------------------\u001b[0m",
      "\u001b[1;31mModuleNotFoundError\u001b[0m                       Traceback (most recent call last)",
      "Cell \u001b[1;32mIn[1], line 1\u001b[0m\n\u001b[1;32m----> 1\u001b[0m \u001b[39mimport\u001b[39;00m \u001b[39mocr\u001b[39;00m\n",
      "File \u001b[1;32mc:\\Users\\roger\\Downloads\\Projeto Matrículas\\Projeto Matrículas\\src\\ocr.py:4\u001b[0m\n\u001b[0;32m      2\u001b[0m \u001b[39mimport\u001b[39;00m \u001b[39mglob\u001b[39;00m\n\u001b[0;32m      3\u001b[0m \u001b[39mimport\u001b[39;00m \u001b[39mnumpy\u001b[39;00m \u001b[39mas\u001b[39;00m \u001b[39mnp\u001b[39;00m\n\u001b[1;32m----> 4\u001b[0m \u001b[39mimport\u001b[39;00m \u001b[39mpytesseract\u001b[39;00m\n\u001b[0;32m      5\u001b[0m \u001b[39mimport\u001b[39;00m \u001b[39msys\u001b[39;00m\n\u001b[0;32m      6\u001b[0m \u001b[39mimport\u001b[39;00m \u001b[39mcv2\u001b[39;00m\n",
      "\u001b[1;31mModuleNotFoundError\u001b[0m: No module named 'pytesseract'"
     ]
    }
   ],
   "source": [
    "import ocr"
   ]
  },
  {
   "cell_type": "code",
   "execution_count": null,
   "metadata": {},
   "outputs": [],
   "source": []
  },
  {
   "cell_type": "code",
   "execution_count": 75,
   "metadata": {},
   "outputs": [],
   "source": [
    "def get_text_percentage(file_name: str) -> float:\n",
    "    \"\"\"\n",
    "    Calculate the percentage of document that is covered by (searchable) text.\n",
    "\n",
    "    If the returned percentage of text is very low, the document is\n",
    "    most likely a scanned PDF\n",
    "    \"\"\"\n",
    "    total_page_area = 0.0\n",
    "    total_text_area = 0.0\n",
    "\n",
    "    doc = fitz.open(file_name)\n",
    "\n",
    "    for page_num, page in enumerate(doc):\n",
    "        total_page_area = total_page_area + abs(page.rect)\n",
    "        text_area = 0.0\n",
    "        rectangles_texts = []\n",
    "        for b in page.get_text(\"blocks\"):\n",
    "            r = fitz.Rect(b[:4])  # rectangle where block text appears\n",
    "            rectangles_texts.append(r)\n",
    "            avaliado = abs(r)\n",
    "            print(\"retangulo avaliado\",r,\" valor\",abs(r))\n",
    "            for texts_rectangles in rectangles_texts:\n",
    "                if texts_rectangles == r:\n",
    "                    continue\n",
    "                else:\n",
    "\n",
    "                    intersecao = abs(r.intersect(texts_rectangles))\n",
    "                    avaliado -= intersecao\n",
    "                    # print(\"retangulo avaliado\",r)\n",
    "                    print(\"retangulo comparado\",texts_rectangles,\" interseccao\",intersecao)\n",
    "                    # print(\"valor de area do retanggulo avaliado\",avaliado,\n",
    "                    #       \"\\nvalor da interseccao\",intersecao,\n",
    "                    #       \"\\nvalor ajustado\",avaliado)\n",
    "            print(\"valor final\",avaliado)\n",
    "            text_area = text_area + avaliado\n",
    "        total_text_area = total_text_area + text_area\n",
    "    doc.close()\n",
    "    # print(\"area total\",total_page_area)\n",
    "    # print(\"area texto\",total_text_area)\n",
    "    return total_text_area / total_page_area\n"
   ]
  },
  {
   "cell_type": "code",
   "execution_count": 91,
   "metadata": {},
   "outputs": [],
   "source": [
    "def Average(lst):\n",
    "    return round(sum(lst) / len(lst),2)\n",
    "\n",
    "def classifier(pdf_file):\n",
    "    with open(pdf_file,\"rb\") as f:\n",
    "        pdf = fitz.open(f)\n",
    "        res_img = []\n",
    "        res_text = []\n",
    "        for page in pdf:\n",
    "            total_page_area = abs(page.rect)\n",
    "            image_area = 0.0\n",
    "            text_area = 0.0\n",
    "            for b in page.get_text(\"blocks\"):\n",
    "                if '<image:' in b[4]:\n",
    "                    r = fitz.Rect(b[:4])\n",
    "                    image_area = image_area + abs(r)\n",
    "                else:\n",
    "                    r = fitz.Rect(b[:4])\n",
    "                    text_area = text_area + abs(r)\n",
    "            \n",
    "            res_img.append(image_area/total_page_area)\n",
    "            res_text.append(text_area/total_page_area)\n",
    "\n",
    "        if Average(res_img) > Average(res_text):\n",
    "            print(\"Documento composto de {}% de imagens\".format(Average(res_img)*100))\n",
    "            return 1\n",
    "        else:\n",
    "            print(\"Documento composto de {}% de textos\".format(Average(res_text)*100))\n",
    "            return 0\n"
   ]
  },
  {
   "cell_type": "code",
   "execution_count": 92,
   "metadata": {},
   "outputs": [
    {
     "name": "stdout",
     "output_type": "stream",
     "text": [
      "Documento composto de 98.0% de imagens\n"
     ]
    },
    {
     "data": {
      "text/plain": [
       "1"
      ]
     },
     "execution_count": 92,
     "metadata": {},
     "output_type": "execute_result"
    }
   ],
   "source": [
    "classifier(r\"C:\\Users\\roger\\Desktop\\ProjetoMatriculas\\4- Apartamento Rio de Janeiro - Matrícula 84.550.pdf\")"
   ]
  },
  {
   "cell_type": "code",
   "execution_count": 23,
   "metadata": {},
   "outputs": [
    {
     "name": "stdout",
     "output_type": "stream",
     "text": [
      "<image: DeviceGray, width: 1730, height: 2448, bpc: 1>\n",
      "Página: 1/3\n",
      "\n",
      "ELSE\n",
      "<image: DeviceRGB, width: 54, height: 577, bpc: 8>\n",
      "<image: DeviceGray, width: 50, height: 50, bpc: 1>\n",
      "Para verificar a autenticidade, acesse https://registradores.onr.org.br/validacao.aspx e digite o hash c31079eb-dc1d-468d-b2de-d2ae784d5694\n",
      "\n",
      "ELSE\n",
      "Esse documento foi assinado digitalmente por TATIANE ALINE DA SILVA MANFRA - 27/04/2023 11:49 PROTOCOLO: S23040407156D-65382\n",
      "\n",
      "ELSE\n",
      "488014.98499556363 11559.18286965543\n",
      "<image: DeviceGray, width: 1735, height: 2456, bpc: 1>\n",
      "Página: 2/3\n",
      "\n",
      "ELSE\n",
      "<image: DeviceRGB, width: 54, height: 577, bpc: 8>\n",
      "Para verificar a autenticidade, acesse https://registradores.onr.org.br/validacao.aspx e digite o hash c31079eb-dc1d-468d-b2de-d2ae784d5694\n",
      "\n",
      "ELSE\n",
      "Esse documento foi assinado digitalmente por TATIANE ALINE DA SILVA MANFRA - 27/04/2023 11:49 PROTOCOLO: S23040407156D-65382\n",
      "\n",
      "ELSE\n",
      "485684.97308062366 11559.18286965543\n",
      "<image: DeviceRGB, width: 1730, height: 2448, bpc: 8>\n",
      "Página: 3/3\n",
      "\n",
      "ELSE\n",
      "<image: DeviceRGB, width: 54, height: 577, bpc: 8>\n",
      "Para verificar a autenticidade, acesse https://registradores.onr.org.br/validacao.aspx e digite o hash c31079eb-dc1d-468d-b2de-d2ae784d5694\n",
      "\n",
      "ELSE\n",
      "Esse documento foi assinado digitalmente por TATIANE ALINE DA SILVA MANFRA - 27/04/2023 11:49 PROTOCOLO: S23040407156D-65382\n",
      "\n",
      "ELSE\n",
      "485514.98499556363 11559.18286965543\n",
      "PDF is image-based!\n"
     ]
    }
   ],
   "source": [
    "file_path = r\"C:\\Users\\roger\\Desktop\\ProjetoMatriculas\\matrícula.pdf\"\n",
    "classifier_result = classifier(file_path)\n",
    "if 0 in classifier_result:\n",
    "    print(\"PDF is image-based!\")\n",
    "else:\n",
    "    print(\"PDF is text-based!\")"
   ]
  },
  {
   "cell_type": "code",
   "execution_count": null,
   "metadata": {},
   "outputs": [],
   "source": []
  }
 ],
 "metadata": {
  "kernelspec": {
   "display_name": "base",
   "language": "python",
   "name": "python3"
  },
  "language_info": {
   "codemirror_mode": {
    "name": "ipython",
    "version": 3
   },
   "file_extension": ".py",
   "mimetype": "text/x-python",
   "name": "python",
   "nbconvert_exporter": "python",
   "pygments_lexer": "ipython3",
   "version": "3.10.9"
  },
  "orig_nbformat": 4
 },
 "nbformat": 4,
 "nbformat_minor": 2
}
